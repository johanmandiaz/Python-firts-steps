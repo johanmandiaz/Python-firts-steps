{
 "cells": [
  {
   "cell_type": "code",
   "execution_count": 2,
   "id": "583ced59",
   "metadata": {},
   "outputs": [
    {
     "name": "stdout",
     "output_type": "stream",
     "text": [
      "Requirement already satisfied: pandas in c:\\users\\johan\\appdata\\local\\programs\\python\\python313\\lib\\site-packages (2.3.0)\n",
      "Requirement already satisfied: numpy>=1.26.0 in c:\\users\\johan\\appdata\\local\\programs\\python\\python313\\lib\\site-packages (from pandas) (2.3.0)\n",
      "Requirement already satisfied: python-dateutil>=2.8.2 in c:\\users\\johan\\appdata\\roaming\\python\\python313\\site-packages (from pandas) (2.9.0.post0)\n",
      "Requirement already satisfied: pytz>=2020.1 in c:\\users\\johan\\appdata\\local\\programs\\python\\python313\\lib\\site-packages (from pandas) (2025.2)\n",
      "Requirement already satisfied: tzdata>=2022.7 in c:\\users\\johan\\appdata\\local\\programs\\python\\python313\\lib\\site-packages (from pandas) (2025.2)\n",
      "Requirement already satisfied: six>=1.5 in c:\\users\\johan\\appdata\\roaming\\python\\python313\\site-packages (from python-dateutil>=2.8.2->pandas) (1.16.0)\n"
     ]
    },
    {
     "name": "stderr",
     "output_type": "stream",
     "text": [
      "\n",
      "[notice] A new release of pip is available: 24.3.1 -> 25.1.1\n",
      "[notice] To update, run: python.exe -m pip install --upgrade pip\n"
     ]
    }
   ],
   "source": [
    "!pip install pandas\n",
    "import pandas as pd"
   ]
  },
  {
   "cell_type": "code",
   "execution_count": 3,
   "id": "39304eb5",
   "metadata": {},
   "outputs": [
    {
     "data": {
      "text/html": [
       "<div>\n",
       "<style scoped>\n",
       "    .dataframe tbody tr th:only-of-type {\n",
       "        vertical-align: middle;\n",
       "    }\n",
       "\n",
       "    .dataframe tbody tr th {\n",
       "        vertical-align: top;\n",
       "    }\n",
       "\n",
       "    .dataframe thead th {\n",
       "        text-align: right;\n",
       "    }\n",
       "</style>\n",
       "<table border=\"1\" class=\"dataframe\">\n",
       "  <thead>\n",
       "    <tr style=\"text-align: right;\">\n",
       "      <th></th>\n",
       "      <th>Student_ID</th>\n",
       "      <th>Age</th>\n",
       "      <th>Gender</th>\n",
       "      <th>Academic_Level</th>\n",
       "      <th>Country</th>\n",
       "      <th>Avg_Daily_Usage_Hours</th>\n",
       "      <th>Most_Used_Platform</th>\n",
       "      <th>Affects_Academic_Performance</th>\n",
       "      <th>Sleep_Hours_Per_Night</th>\n",
       "      <th>Mental_Health_Score</th>\n",
       "      <th>Relationship_Status</th>\n",
       "      <th>Conflicts_Over_Social_Media</th>\n",
       "      <th>Addicted_Score</th>\n",
       "    </tr>\n",
       "  </thead>\n",
       "  <tbody>\n",
       "    <tr>\n",
       "      <th>0</th>\n",
       "      <td>1</td>\n",
       "      <td>19</td>\n",
       "      <td>Female</td>\n",
       "      <td>Undergraduate</td>\n",
       "      <td>Bangladesh</td>\n",
       "      <td>5.2</td>\n",
       "      <td>Instagram</td>\n",
       "      <td>Yes</td>\n",
       "      <td>6.5</td>\n",
       "      <td>6</td>\n",
       "      <td>In Relationship</td>\n",
       "      <td>3</td>\n",
       "      <td>8</td>\n",
       "    </tr>\n",
       "    <tr>\n",
       "      <th>1</th>\n",
       "      <td>2</td>\n",
       "      <td>22</td>\n",
       "      <td>Male</td>\n",
       "      <td>Graduate</td>\n",
       "      <td>India</td>\n",
       "      <td>2.1</td>\n",
       "      <td>Twitter</td>\n",
       "      <td>No</td>\n",
       "      <td>7.5</td>\n",
       "      <td>8</td>\n",
       "      <td>Single</td>\n",
       "      <td>0</td>\n",
       "      <td>3</td>\n",
       "    </tr>\n",
       "    <tr>\n",
       "      <th>2</th>\n",
       "      <td>3</td>\n",
       "      <td>20</td>\n",
       "      <td>Female</td>\n",
       "      <td>Undergraduate</td>\n",
       "      <td>USA</td>\n",
       "      <td>6.0</td>\n",
       "      <td>TikTok</td>\n",
       "      <td>Yes</td>\n",
       "      <td>5.0</td>\n",
       "      <td>5</td>\n",
       "      <td>Complicated</td>\n",
       "      <td>4</td>\n",
       "      <td>9</td>\n",
       "    </tr>\n",
       "    <tr>\n",
       "      <th>3</th>\n",
       "      <td>4</td>\n",
       "      <td>18</td>\n",
       "      <td>Male</td>\n",
       "      <td>High School</td>\n",
       "      <td>UK</td>\n",
       "      <td>3.0</td>\n",
       "      <td>YouTube</td>\n",
       "      <td>No</td>\n",
       "      <td>7.0</td>\n",
       "      <td>7</td>\n",
       "      <td>Single</td>\n",
       "      <td>1</td>\n",
       "      <td>4</td>\n",
       "    </tr>\n",
       "    <tr>\n",
       "      <th>4</th>\n",
       "      <td>5</td>\n",
       "      <td>21</td>\n",
       "      <td>Male</td>\n",
       "      <td>Graduate</td>\n",
       "      <td>Canada</td>\n",
       "      <td>4.5</td>\n",
       "      <td>Facebook</td>\n",
       "      <td>Yes</td>\n",
       "      <td>6.0</td>\n",
       "      <td>6</td>\n",
       "      <td>In Relationship</td>\n",
       "      <td>2</td>\n",
       "      <td>7</td>\n",
       "    </tr>\n",
       "  </tbody>\n",
       "</table>\n",
       "</div>"
      ],
      "text/plain": [
       "   Student_ID  Age  Gender Academic_Level     Country  Avg_Daily_Usage_Hours  \\\n",
       "0           1   19  Female  Undergraduate  Bangladesh                    5.2   \n",
       "1           2   22    Male       Graduate       India                    2.1   \n",
       "2           3   20  Female  Undergraduate         USA                    6.0   \n",
       "3           4   18    Male    High School          UK                    3.0   \n",
       "4           5   21    Male       Graduate      Canada                    4.5   \n",
       "\n",
       "  Most_Used_Platform Affects_Academic_Performance  Sleep_Hours_Per_Night  \\\n",
       "0          Instagram                          Yes                    6.5   \n",
       "1            Twitter                           No                    7.5   \n",
       "2             TikTok                          Yes                    5.0   \n",
       "3            YouTube                           No                    7.0   \n",
       "4           Facebook                          Yes                    6.0   \n",
       "\n",
       "   Mental_Health_Score Relationship_Status  Conflicts_Over_Social_Media  \\\n",
       "0                    6     In Relationship                            3   \n",
       "1                    8              Single                            0   \n",
       "2                    5         Complicated                            4   \n",
       "3                    7              Single                            1   \n",
       "4                    6     In Relationship                            2   \n",
       "\n",
       "   Addicted_Score  \n",
       "0               8  \n",
       "1               3  \n",
       "2               9  \n",
       "3               4  \n",
       "4               7  "
      ]
     },
     "execution_count": 3,
     "metadata": {},
     "output_type": "execute_result"
    }
   ],
   "source": [
    "df= pd.read_csv(\"C:\\\\Users\\\\johan/OneDrive - Corporacion Universitaria Iberoamericana\\\\Ibero\\\\Materias\\\\a2.3 Fundamentos de Programación\\\\Dataset_Act6\\\\Students_Social_Media_Addiction.csv\")\n",
    "df.head()"
   ]
  },
  {
   "cell_type": "code",
   "execution_count": 4,
   "id": "0b6258c2",
   "metadata": {},
   "outputs": [
    {
     "name": "stdout",
     "output_type": "stream",
     "text": [
      "La media del tiempo diario promedio en redes sociales es: 4.918723404255319 horas\n",
      "La edad promedio de los estudiantes es: 20.659574468085108 años\n",
      "Las horas promedio de sueño por noche son: 6.868936170212766 horas\n"
     ]
    }
   ],
   "source": [
    "Daily_usage_media_hr=df['Avg_Daily_Usage_Hours'].mean()\n",
    "print(\"La media del tiempo diario promedio en redes sociales es:\", Daily_usage_media_hr, \"horas\")\n",
    "Age_media=df['Age'].mean()\n",
    "print(\"La edad promedio de los estudiantes es:\" , Age_media, \"años\")\n",
    "SleepHr_media=df['Sleep_Hours_Per_Night'].mean()\n",
    "print(\"Las horas promedio de sueño por noche son:\" , SleepHr_media, \"horas\")"
   ]
  },
  {
   "cell_type": "code",
   "execution_count": 5,
   "id": "f58241f4",
   "metadata": {},
   "outputs": [
    {
     "name": "stdout",
     "output_type": "stream",
     "text": [
      "Requirement already satisfied: matplotlib in c:\\users\\johan\\appdata\\local\\programs\\python\\python313\\lib\\site-packages (3.10.3)\n",
      "Requirement already satisfied: contourpy>=1.0.1 in c:\\users\\johan\\appdata\\local\\programs\\python\\python313\\lib\\site-packages (from matplotlib) (1.3.2)\n",
      "Requirement already satisfied: cycler>=0.10 in c:\\users\\johan\\appdata\\local\\programs\\python\\python313\\lib\\site-packages (from matplotlib) (0.12.1)\n",
      "Requirement already satisfied: fonttools>=4.22.0 in c:\\users\\johan\\appdata\\local\\programs\\python\\python313\\lib\\site-packages (from matplotlib) (4.58.2)\n",
      "Requirement already satisfied: kiwisolver>=1.3.1 in c:\\users\\johan\\appdata\\local\\programs\\python\\python313\\lib\\site-packages (from matplotlib) (1.4.8)\n",
      "Requirement already satisfied: numpy>=1.23 in c:\\users\\johan\\appdata\\local\\programs\\python\\python313\\lib\\site-packages (from matplotlib) (2.3.0)\n",
      "Requirement already satisfied: packaging>=20.0 in c:\\users\\johan\\appdata\\roaming\\python\\python313\\site-packages (from matplotlib) (24.1)\n",
      "Requirement already satisfied: pillow>=8 in c:\\users\\johan\\appdata\\local\\programs\\python\\python313\\lib\\site-packages (from matplotlib) (11.2.1)\n",
      "Requirement already satisfied: pyparsing>=2.3.1 in c:\\users\\johan\\appdata\\local\\programs\\python\\python313\\lib\\site-packages (from matplotlib) (3.2.3)\n",
      "Requirement already satisfied: python-dateutil>=2.7 in c:\\users\\johan\\appdata\\roaming\\python\\python313\\site-packages (from matplotlib) (2.9.0.post0)\n",
      "Requirement already satisfied: six>=1.5 in c:\\users\\johan\\appdata\\roaming\\python\\python313\\site-packages (from python-dateutil>=2.7->matplotlib) (1.16.0)\n"
     ]
    },
    {
     "name": "stderr",
     "output_type": "stream",
     "text": [
      "\n",
      "[notice] A new release of pip is available: 24.3.1 -> 25.1.1\n",
      "[notice] To update, run: python.exe -m pip install --upgrade pip\n"
     ]
    },
    {
     "name": "stdout",
     "output_type": "stream",
     "text": [
      "Requirement already satisfied: seaborn in c:\\users\\johan\\appdata\\local\\programs\\python\\python313\\lib\\site-packages (0.13.2)\n",
      "Requirement already satisfied: numpy!=1.24.0,>=1.20 in c:\\users\\johan\\appdata\\local\\programs\\python\\python313\\lib\\site-packages (from seaborn) (2.3.0)\n",
      "Requirement already satisfied: pandas>=1.2 in c:\\users\\johan\\appdata\\local\\programs\\python\\python313\\lib\\site-packages (from seaborn) (2.3.0)\n",
      "Requirement already satisfied: matplotlib!=3.6.1,>=3.4 in c:\\users\\johan\\appdata\\local\\programs\\python\\python313\\lib\\site-packages (from seaborn) (3.10.3)\n",
      "Requirement already satisfied: contourpy>=1.0.1 in c:\\users\\johan\\appdata\\local\\programs\\python\\python313\\lib\\site-packages (from matplotlib!=3.6.1,>=3.4->seaborn) (1.3.2)\n",
      "Requirement already satisfied: cycler>=0.10 in c:\\users\\johan\\appdata\\local\\programs\\python\\python313\\lib\\site-packages (from matplotlib!=3.6.1,>=3.4->seaborn) (0.12.1)\n",
      "Requirement already satisfied: fonttools>=4.22.0 in c:\\users\\johan\\appdata\\local\\programs\\python\\python313\\lib\\site-packages (from matplotlib!=3.6.1,>=3.4->seaborn) (4.58.2)\n",
      "Requirement already satisfied: kiwisolver>=1.3.1 in c:\\users\\johan\\appdata\\local\\programs\\python\\python313\\lib\\site-packages (from matplotlib!=3.6.1,>=3.4->seaborn) (1.4.8)\n",
      "Requirement already satisfied: packaging>=20.0 in c:\\users\\johan\\appdata\\roaming\\python\\python313\\site-packages (from matplotlib!=3.6.1,>=3.4->seaborn) (24.1)\n",
      "Requirement already satisfied: pillow>=8 in c:\\users\\johan\\appdata\\local\\programs\\python\\python313\\lib\\site-packages (from matplotlib!=3.6.1,>=3.4->seaborn) (11.2.1)\n",
      "Requirement already satisfied: pyparsing>=2.3.1 in c:\\users\\johan\\appdata\\local\\programs\\python\\python313\\lib\\site-packages (from matplotlib!=3.6.1,>=3.4->seaborn) (3.2.3)\n",
      "Requirement already satisfied: python-dateutil>=2.7 in c:\\users\\johan\\appdata\\roaming\\python\\python313\\site-packages (from matplotlib!=3.6.1,>=3.4->seaborn) (2.9.0.post0)\n",
      "Requirement already satisfied: pytz>=2020.1 in c:\\users\\johan\\appdata\\local\\programs\\python\\python313\\lib\\site-packages (from pandas>=1.2->seaborn) (2025.2)\n",
      "Requirement already satisfied: tzdata>=2022.7 in c:\\users\\johan\\appdata\\local\\programs\\python\\python313\\lib\\site-packages (from pandas>=1.2->seaborn) (2025.2)\n",
      "Requirement already satisfied: six>=1.5 in c:\\users\\johan\\appdata\\roaming\\python\\python313\\site-packages (from python-dateutil>=2.7->matplotlib!=3.6.1,>=3.4->seaborn) (1.16.0)\n"
     ]
    },
    {
     "name": "stderr",
     "output_type": "stream",
     "text": [
      "\n",
      "[notice] A new release of pip is available: 24.3.1 -> 25.1.1\n",
      "[notice] To update, run: python.exe -m pip install --upgrade pip\n"
     ]
    }
   ],
   "source": [
    "!pip install matplotlib\n",
    "import matplotlib.pyplot as plt\n",
    "!pip install seaborn\n",
    "import seaborn as sns"
   ]
  },
  {
   "cell_type": "code",
   "execution_count": 6,
   "id": "1a41c213",
   "metadata": {},
   "outputs": [
    {
     "data": {
      "text/plain": [
       "<Axes: xlabel='Avg_Daily_Usage_Hours', ylabel='Count'>"
      ]
     },
     "execution_count": 6,
     "metadata": {},
     "output_type": "execute_result"
    },
    {
     "data": {
      "image/png": "[encoded data removed]",
      "text/plain": [
       "<Figure size 640x480 with 1 Axes>"
      ]
     },
     "metadata": {},
     "output_type": "display_data"
    }
   ],
   "source": [
    "#Histograma para la distribución del tiempo promedio diario en redes sociales\n",
    "plt.Figure(figsize=(10, 5))\n",
    "sns.histplot(df['Avg_Daily_Usage_Hours'])"
   ]
  },
  {
   "cell_type": "code",
   "execution_count": 7,
   "id": "b7a38ea7",
   "metadata": {},
   "outputs": [
    {
     "name": "stdout",
     "output_type": "stream",
     "text": [
      "     Student_ID  Avg_Daily_Usage_Hours  Addicted_Score Nivel_Riesgo\n",
      "352         353                    4.6               6        Medio\n",
      "286         287                    4.3               5        Medio\n",
      "318         319                    3.9               5        Medio\n",
      "317         318                    4.6               7        Medio\n",
      "581         582                    4.9               5        Medio\n",
      "..          ...                    ...             ...          ...\n",
      "325         326                    5.5               7         Alto\n",
      "323         324                    5.8               8         Alto\n",
      "320         321                    5.2               7         Alto\n",
      "316         317                    7.1               9         Alto\n",
      "704         705                    6.2               8         Alto\n",
      "\n",
      "[705 rows x 4 columns]\n"
     ]
    },
    {
     "data": {
      "text/plain": [
       "Text(0.5, 1.0, 'Nivel de Riesgo de Adicción a las Redes Sociales')"
      ]
     },
     "execution_count": 7,
     "metadata": {},
     "output_type": "execute_result"
    },
    {
     "data": {
      "image/png": "[encoded data removed]",
      "text/plain": [
       "<Figure size 1000x500 with 1 Axes>"
      ]
     },
     "metadata": {},
     "output_type": "display_data"
    }
   ],
   "source": [
    "#Función para clasificar el riesgo de adicción a las redes sociales. Con base en el tiempo promedio diario de uso.\n",
    "#def classify_addiction(hours):\n",
    "#    if hours < 1:\n",
    "#        return \"Bajo\"\n",
    "#    elif 1 <= hours < 3:\n",
    "#        return \"Medio\"\n",
    "#    elif 3 <= hours < 5:\n",
    "#        return \"Alto\"\n",
    "#    else:\n",
    "#        return \"Muy alto\"\n",
    "def clasificar_riesgo(row):\n",
    "    if row['Avg_Daily_Usage_Hours'] > 5 or row['Addicted_Score'] > 7:\n",
    "        return \"Alto\"\n",
    "    elif row['Avg_Daily_Usage_Hours'] > 3 or row['Addicted_Score'] > 5:\n",
    "        return \"Medio\"\n",
    "    else:\n",
    "        return \"Bajo\"\n",
    "df['Nivel_Riesgo'] = df.apply(clasificar_riesgo, axis=1)  \n",
    "df = df.sort_values(by='Nivel_Riesgo', ascending=False)\n",
    "print(df[['Student_ID', 'Avg_Daily_Usage_Hours', 'Addicted_Score', 'Nivel_Riesgo']])\n",
    "# Gráfico de barras para el nivel de riesgo de adicción a las redes sociales\n",
    "plt.figure(figsize=(10, 5))\n",
    "sns.countplot(data=df, x='Nivel_Riesgo')\n",
    "plt.title('Nivel de Riesgo de Adicción a las Redes Sociales')"
   ]
  },
  {
   "cell_type": "code",
   "execution_count": null,
   "id": "77ed41e2",
   "metadata": {},
   "outputs": [
    {
     "name": "stdout",
     "output_type": "stream",
     "text": [
      "Most_Used_Platform\n",
      "Instagram    172\n",
      "TikTok       144\n",
      "WhatsApp      54\n",
      "Facebook      37\n",
      "KakaoTalk     12\n",
      "Snapchat      12\n",
      "Twitter       11\n",
      "WeChat         8\n",
      "YouTube        3\n",
      "Name: count, dtype: int64\n"
     ]
    }
   ],
   "source": [
    "#Estudiantes que dijeron que las redes sociales afectan su rendimiento académico agrupados por red social\n",
    "impacto= df[df['Affects_Academic_Performance'] == 'Yes']\n",
    "conteo = impacto['Most_Used_Platform'].value_counts()\n",
    "#total =df['Most_Used_Platform'].value_counts()\n",
    "print(conteo)"
   ]
  }
 ],
 "metadata": {
  "kernelspec": {
   "display_name": "Python 3",
   "language": "python",
   "name": "python3"
  },
  "language_info": {
   "codemirror_mode": {
    "name": "ipython",
    "version": 3
   },
   "file_extension": ".py",
   "mimetype": "text/x-python",
   "name": "python",
   "nbconvert_exporter": "python",
   "pygments_lexer": "ipython3",
   "version": "3.13.2"
  }
 },
 "nbformat": 4,
 "nbformat_minor": 5
}
