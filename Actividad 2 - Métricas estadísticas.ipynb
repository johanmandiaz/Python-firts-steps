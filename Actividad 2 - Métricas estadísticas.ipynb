{
 "cells": [
  {
   "cell_type": "code",
   "execution_count": null,
   "metadata": {},
   "outputs": [],
   "source": [
    "#import random\n",
    "#reg_velocidad = list[random.randint(5,100)]\n",
    "#reg_velocidad"
   ]
  },
  {
   "cell_type": "code",
   "execution_count": 89,
   "metadata": {},
   "outputs": [],
   "source": [
    "#INPUT\n",
    "import random\n",
    "curvas = int(input('curvas en un circuito de formula 1'))\n",
    "reg_velocidad = [random.randint(100,280)\n",
    "                    for velocidad in range(curvas)]"
   ]
  },
  {
   "cell_type": "code",
   "execution_count": 90,
   "metadata": {},
   "outputs": [
    {
     "data": {
      "text/plain": [
       "23"
      ]
     },
     "execution_count": 90,
     "metadata": {},
     "output_type": "execute_result"
    }
   ],
   "source": [
    "curvas\n",
    "#print(type(curvas))"
   ]
  },
  {
   "cell_type": "code",
   "execution_count": null,
   "metadata": {},
   "outputs": [],
   "source": [
    "#reg_velocidad\n",
    "# #print(type(reg_velocidad))"
   ]
  },
  {
   "cell_type": "markdown",
   "metadata": {},
   "source": [
    "MEDIA"
   ]
  },
  {
   "cell_type": "code",
   "execution_count": 190,
   "metadata": {},
   "outputs": [],
   "source": [
    "# La media se define como el valor que se ubica en el centro de gravedad de los datos. También se puede expresar como la sumatoria de una conjunto de datos entre la longitud o cardinalidad de la lista que los contiene.\n",
    "#En las lineas anteriores, se define una lista dada por un input y luego, de acuerdo a esa cantidad dada, se genera una lista aleatoria de números entre un rango dado.\n",
    "# La media entonces está dada por:\n",
    "\n",
    "def media_velocidad(registro_velocidades):\n",
    "    velocidad_media = int(sum(reg_velocidad)/curvas)\n",
    "    print(velocidad_media)\n"
   ]
  },
  {
   "cell_type": "code",
   "execution_count": 191,
   "metadata": {},
   "outputs": [
    {
     "name": "stdout",
     "output_type": "stream",
     "text": [
      "177\n"
     ]
    }
   ],
   "source": [
    "media_velocidad(reg_velocidad)"
   ]
  },
  {
   "cell_type": "markdown",
   "metadata": {},
   "source": [
    "MEDIANA"
   ]
  },
  {
   "cell_type": "code",
   "execution_count": 192,
   "metadata": {},
   "outputs": [],
   "source": [
    "#CONSIDERACIONES\n",
    "#Mediana = (n+1)/2 --- si n es impar\n",
    "#Mediana = ((n/2)+(n/2+1))/2 --- si n es par\n",
    "#Donde n es el número de curvas (vector 'reg_velocidad') o lo equivalente a la cantidad de registros de velocidad\n",
    "#Se sabe que un número es par si su división por 2 da un número entero --- % resultado 0 o False\n",
    "\n",
    "def mediana_velocidad(registro_velocidades):\n",
    "    #Ordenar el conjuto de datos de menor a mayor\n",
    "    reg_velocidad.sort(reverse=False)\n",
    "    #reg_velocidad[0]\n",
    "    n_par = bool(curvas % 2)\n",
    "    if n_par == False: \n",
    "        pos_med = int(((curvas / 2) + ((curvas/2)+1))/2)\n",
    "    else:\n",
    "        pos_med = int((curvas+1)/2)\n",
    "    mediana = reg_velocidad[pos_med-1]\n",
    "    print(mediana)"
   ]
  },
  {
   "cell_type": "code",
   "execution_count": 193,
   "metadata": {},
   "outputs": [
    {
     "name": "stdout",
     "output_type": "stream",
     "text": [
      "155\n"
     ]
    }
   ],
   "source": [
    "mediana_velocidad(reg_velocidad)"
   ]
  },
  {
   "cell_type": "code",
   "execution_count": 195,
   "metadata": {},
   "outputs": [
    {
     "name": "stdout",
     "output_type": "stream",
     "text": [
      "274 102\n"
     ]
    }
   ],
   "source": [
    "#para un conjunto de n corredores, n registros aleatorios de velocidades entre 30 y 57 km/h\n",
    "vel_min = min(reg_velocidad)\n",
    "vel_max = max(reg_velocidad)\n",
    "print(vel_max,vel_min)"
   ]
  },
  {
   "cell_type": "markdown",
   "metadata": {},
   "source": [
    "MODA\n",
    "es la medida de tendencia central que representa el valor o los valores que se repiten con mayor frecuencia en un conjunto de datos"
   ]
  },
  {
   "cell_type": "code",
   "execution_count": 196,
   "metadata": {},
   "outputs": [],
   "source": [
    "\n",
    "def moda_velocidad(registros_velocidad):\n",
    "    freq_reg_vel = {}\n",
    "    moda_reg_vel = []\n",
    "    for velocidad in reg_velocidad:\n",
    "        if velocidad in freq_reg_vel:\n",
    "            freq_reg_vel[velocidad] += 1\n",
    "        else:\n",
    "            freq_reg_vel[velocidad] = 1\n",
    "\n",
    "    #print(freq_reg_vel(max(freq_reg_vel.values())))\n",
    "\n",
    "    freq_maxima = max(freq_reg_vel.values())\n",
    "    #freq_maxima\n",
    "\n",
    "    for velocidad, freq in freq_reg_vel.items():\n",
    "        if freq == freq_maxima:\n",
    "            moda_reg_vel = velocidad\n",
    "            print(moda_reg_vel)    "
   ]
  },
  {
   "cell_type": "code",
   "execution_count": 197,
   "metadata": {},
   "outputs": [
    {
     "name": "stdout",
     "output_type": "stream",
     "text": [
      "155\n"
     ]
    }
   ],
   "source": [
    "moda_velocidad(reg_velocidad)"
   ]
  },
  {
   "cell_type": "markdown",
   "metadata": {},
   "source": [
    "VARIANZA \n",
    "La varianza demuestra cuánto fluctúan los valores de una variable respecto al promedio. \n",
    "Para aplicación de la varianza, se tomará la varianza poblacional aplicable a la totalidad del conjunto de datos."
   ]
  },
  {
   "cell_type": "code",
   "execution_count": 246,
   "metadata": {},
   "outputs": [],
   "source": [
    "# sigma^2=(sum(x-prmd)^2)/n\n",
    "#La varianza es igual a: la suma de las diferencias entre cada valor y el promedio elevados al cuadrado sobre la cantidad de datos\n",
    "\n",
    "#aplicar un ciclo for de tal forma que a cada valor le reste la media\n",
    "\n",
    "    # type(velocidad_media) es un int\n",
    "    # type(reg_velocidad[x]) es un int\n",
    "    # type(media_velocidad) es function\n",
    "def varianza_velocidades(registros_vel):  \n",
    "    vel_media = sum(reg_velocidad)/len(reg_velocidad)\n",
    "    valores_dif_x_2pot = []\n",
    "    for velocidad in reg_velocidad:\n",
    "        dif_x_pot2 = (velocidad - vel_media) **2\n",
    "        valores_dif_x_2pot.append(dif_x_pot2)\n",
    "    varianza = sum(valores_dif_x_2pot)/len(reg_velocidad)\n",
    "    print(varianza)\n"
   ]
  },
  {
   "cell_type": "code",
   "execution_count": 247,
   "metadata": {},
   "outputs": [
    {
     "name": "stdout",
     "output_type": "stream",
     "text": [
      "3283.497164461248\n"
     ]
    }
   ],
   "source": [
    "varianza_velocidades(reg_velocidad)"
   ]
  },
  {
   "cell_type": "markdown",
   "metadata": {},
   "source": [
    "DESVIACIÓN ESTÁNDAR \n",
    "Es una medida de dispersión que indica cuánto se desvían los valores de un conjunto de datos con respecto a su media. Un valor muy alto indica que los valores están muy alejados de la media"
   ]
  },
  {
   "cell_type": "code",
   "execution_count": 222,
   "metadata": {},
   "outputs": [],
   "source": [
    "# Sigma = Raíz2 de sigma^2\n",
    "def desviacion_estandar_velocidades(reg_velocidade):\n",
    "    desv_estandar = varianza ** (1/2)\n",
    "    print(desv_estandar)"
   ]
  },
  {
   "cell_type": "code",
   "execution_count": 223,
   "metadata": {},
   "outputs": [
    {
     "name": "stdout",
     "output_type": "stream",
     "text": [
      "57.30180768929762\n"
     ]
    }
   ],
   "source": [
    "desviacion_estandar_velocidades(reg_velocidad)"
   ]
  },
  {
   "cell_type": "markdown",
   "metadata": {},
   "source": [
    "COEFICIENTE DE VARIACIÓN\n",
    "Este coeficiente mide la desviación de los valores con respecto a la media pero de forma relativa.\n"
   ]
  },
  {
   "cell_type": "code",
   "execution_count": 232,
   "metadata": {},
   "outputs": [],
   "source": [
    "#Se calcula dividiendo la desviación estándar por la media de los datos y multiplicando el resultado por 100\n",
    "\n",
    "def coeficiente_variacion_velocidades(reg_velocit):\n",
    "    coef_var = (desv_estandar / vel_media)*100\n",
    "    print(coef_var)"
   ]
  },
  {
   "cell_type": "code",
   "execution_count": 233,
   "metadata": {},
   "outputs": [
    {
     "name": "stdout",
     "output_type": "stream",
     "text": [
      "32.239275363352384\n"
     ]
    }
   ],
   "source": [
    "coeficiente_variacion_velocidades(reg_velocidad)"
   ]
  },
  {
   "cell_type": "markdown",
   "metadata": {},
   "source": [
    "NORMALIZACIÓN Z\n",
    "\n",
    "Técnica estadística que transforma los datos para que tengan una media de 0 y una desviación estándar de 1. Para obtener este valor por cada elemento del conjunto de datos, se resta la media de cada valor y se divide el resultado por la desviación estándar del conjunto de datos. La normalización Z se utiliza cuando se necesita comparar valores de diferentes escalas."
   ]
  },
  {
   "cell_type": "code",
   "execution_count": 249,
   "metadata": {},
   "outputs": [
    {
     "name": "stdout",
     "output_type": "stream",
     "text": [
      "[-1.32, -1.27, -1.2, -0.99, -0.92, -0.87, -0.87, -0.85, -0.62, -0.4, -0.4, -0.4, -0.31, 0.0, 0.6, 0.67, 0.93, 1.09, 1.12, 1.31, 1.47, 1.54, 1.68]\n"
     ]
    }
   ],
   "source": [
    "# \n",
    "\n",
    "#desvi_estand = desv_estandar\n",
    "\n",
    "reg_velocidad_normalizado = []\n",
    "for velocidad in reg_velocidad:\n",
    "    valor_norm = round((velocidad - vel_media)/desv_estandar,2)\n",
    "    reg_velocidad_normalizado.append(valor_norm)\n",
    "print(reg_velocidad_normalizado)"
   ]
  }
 ],
 "metadata": {
  "kernelspec": {
   "display_name": "Python 3",
   "language": "python",
   "name": "python3"
  },
  "language_info": {
   "codemirror_mode": {
    "name": "ipython",
    "version": 3
   },
   "file_extension": ".py",
   "mimetype": "text/x-python",
   "name": "python",
   "nbconvert_exporter": "python",
   "pygments_lexer": "ipython3",
   "version": "3.12.5"
  }
 },
 "nbformat": 4,
 "nbformat_minor": 2
}
