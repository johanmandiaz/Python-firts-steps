{
 "cells": [
  {
   "cell_type": "code",
   "execution_count": null,
   "metadata": {},
   "outputs": [],
   "source": [
    "#import random\n",
    "#reg_velocidad = list[random.randint(5,100)]\n",
    "#reg_velocidad"
   ]
  },
  {
   "cell_type": "code",
   "execution_count": 1,
   "metadata": {},
   "outputs": [],
   "source": [
    "#INPUT\n",
    "import random\n",
    "curvas = int(input('curvas en un circuito de formula 1'))\n",
    "reg_velocidad = [random.randint(100,280)\n",
    "                    for velocidad in range(curvas)]"
   ]
  },
  {
   "cell_type": "code",
   "execution_count": 137,
   "metadata": {},
   "outputs": [
    {
     "data": {
      "text/plain": [
       "23"
      ]
     },
     "execution_count": 137,
     "metadata": {},
     "output_type": "execute_result"
    }
   ],
   "source": [
    "curvas\n",
    "#print(type(curvas))"
   ]
  },
  {
   "cell_type": "markdown",
   "metadata": {},
   "source": [
    "**MEDIA**\n",
    "\n",
    "La media se define como el valor que se ubica en el centro de gravedad de los datos. También se puede expresar como la sumatoria de una conjunto de datos entre la longitud o cardinalidad de la lista que los contiene. (Sosa. 2013)\n",
    "\n",
    "En las lineas anteriores, se define una lista dada por un input y luego, de acuerdo a esa cantidad dada, se genera una lista aleatoria de números entre un rango dado de velocidad mínima y máxima. La media entonces está dada por:"
   ]
  },
  {
   "cell_type": "code",
   "execution_count": 140,
   "metadata": {},
   "outputs": [],
   "source": [
    "def media_velocidad(registro_velocidades):\n",
    "    velocidad_media = int(sum(reg_velocidad)/curvas)\n",
    "    print(velocidad_media)\n"
   ]
  },
  {
   "cell_type": "code",
   "execution_count": 139,
   "metadata": {},
   "outputs": [
    {
     "name": "stdout",
     "output_type": "stream",
     "text": [
      "198\n"
     ]
    }
   ],
   "source": [
    "media_velocidad(reg_velocidad)"
   ]
  },
  {
   "cell_type": "markdown",
   "metadata": {},
   "source": [
    "**MEDIANA**\n",
    "\n",
    "Es una medida de tendencia central que a diferencia de la media, no se ocupa de las magnitudes de los valores sino de su posición en un conjunto de datos ordenados. Muestra el valor que se encuentra en el centro del conjunto ordenados de menor a mayor (Sosa, 2013)\n",
    "\n",
    "Para la median se consideran condicionales con un flujo de control IF. Pues depende de la cantidad de curvas que tenga el circuito; si son un número par o impar. A su vez, se ordena el conjunto de datos de menor a mayor.\n",
    "\n",
    "Además, el cálculo de la mediana arroja como resultado la posición en la que se encuentra el valor, por lo que se debe luego traer el valor correspondiente al almacenado por la posición central (mediana)."
   ]
  },
  {
   "cell_type": "code",
   "execution_count": 141,
   "metadata": {},
   "outputs": [],
   "source": [
    "#CONSIDERACIONES\n",
    "#Mediana = (n+1)/2 --- si n es impar\n",
    "#Mediana = ((n/2)+(n/2+1))/2 --- si n es par\n",
    "#Donde n es el número de curvas (vector 'reg_velocidad') o lo equivalente a la cantidad de registros de velocidad\n",
    "#Se sabe que un número es par si su división por 2 da un número entero --- % resultado 0 o False\n",
    "\n",
    "def mediana_velocidad(registro_velocidades):\n",
    "    #Ordenar el conjuto de datos de menor a mayor\n",
    "    reg_velocidad.sort(reverse=False)\n",
    "    #reg_velocidad[0]\n",
    "    n_par = bool(curvas % 2)\n",
    "    if n_par == False: \n",
    "        pos_med = int(((curvas / 2) + ((curvas/2)+1))/2)\n",
    "    else:\n",
    "        pos_med = int((curvas+1)/2)\n",
    "    mediana = reg_velocidad[pos_med-1]\n",
    "    print(mediana)"
   ]
  },
  {
   "cell_type": "code",
   "execution_count": 142,
   "metadata": {},
   "outputs": [
    {
     "name": "stdout",
     "output_type": "stream",
     "text": [
      "208\n"
     ]
    }
   ],
   "source": [
    "mediana_velocidad(reg_velocidad)"
   ]
  },
  {
   "cell_type": "code",
   "execution_count": 143,
   "metadata": {},
   "outputs": [
    {
     "name": "stdout",
     "output_type": "stream",
     "text": [
      "274 107\n"
     ]
    }
   ],
   "source": [
    "#para un conjunto de n corredores, n registros aleatorios de velocidades entre 30 y 57 km/h\n",
    "vel_min = min(reg_velocidad)\n",
    "vel_max = max(reg_velocidad)\n",
    "print(vel_max,vel_min)"
   ]
  },
  {
   "cell_type": "markdown",
   "metadata": {},
   "source": [
    "**MODA**\n",
    "\n",
    "Es la medida que representa el valor o los valores que se repiten con mayor frecuencia en un conjunto de datos (Sosa, 2013).\n",
    "\n",
    "En la moda se predefinen dos objeros: \n",
    "    \n",
    "    1) Un diccionario donde por cada valor de la lista se suma las veces que se repite dentro del conjunto de datos. y 2) Una lista donde se trae el valor de velocidad correspondiente al value de mayor frecuencia.\n",
    "\n",
    "\n"
   ]
  },
  {
   "cell_type": "code",
   "execution_count": 168,
   "metadata": {},
   "outputs": [],
   "source": [
    "\n",
    "def moda_velocidad(registros_velocidad):\n",
    "    freq_reg_vel = {}\n",
    "    moda_reg_vel = []\n",
    "#Para el diccionario se va a crear un key (registro de velocidad) que relaciona las veces que este aparece en la lista reg_velocidad, o sea la frecuencia.\n",
    "    for velocidad in reg_velocidad:\n",
    "        if velocidad in freq_reg_vel:\n",
    "            freq_reg_vel[velocidad] += 1\n",
    "        else:\n",
    "            freq_reg_vel[velocidad] = 1\n",
    "\n",
    "#Se obtiene la frecuencia máxima de los valores del diccionario freq_reg_vel\n",
    "    freq_maxima = max(freq_reg_vel.values())\n",
    "    #freq_maxima\n",
    "\n",
    "#Se obtiene el key del diccionario freq_reg_vel o velocidad que corresponde a la mayor frecuencia regitrada, es decir, la moda.\n",
    "    for velocidad, freq in freq_reg_vel.items():\n",
    "        if freq == freq_maxima:\n",
    "            moda_reg_vel = velocidad\n",
    "            print(moda_reg_vel)    "
   ]
  },
  {
   "cell_type": "code",
   "execution_count": 169,
   "metadata": {},
   "outputs": [
    {
     "name": "stdout",
     "output_type": "stream",
     "text": [
      "257\n"
     ]
    }
   ],
   "source": [
    "moda_velocidad(reg_velocidad)"
   ]
  },
  {
   "cell_type": "markdown",
   "metadata": {},
   "source": [
    "**VARIANZA**\n",
    "\n",
    "La varianza demuestra cuánto fluctúan los valores de una variable respecto a la media aritmética (Sosa, 2013)\n",
    "\n",
    "Para aplicación de la varianza, se tomará la varianza poblacional aplicable a la totalidad del conjunto de datos.\n"
   ]
  },
  {
   "cell_type": "code",
   "execution_count": 190,
   "metadata": {},
   "outputs": [],
   "source": [
    "# sigma^2=(sum(x-prmd)^2)/n\n",
    "#La varianza es igual a: la suma de las diferencias entre cada valor y el promedio elevados al cuadrado sobre la cantidad de datos\n",
    "\n",
    "#aplicar un ciclo for de tal forma que a cada valor se le reste la media y luego se eleve al cuadrado\n",
    "\n",
    "    # type(velocidad_media) es un int\n",
    "    # type(reg_velocidad[x]) es un int\n",
    "    # type(media_velocidad) es function\n",
    "#varianza = []\n",
    "#vel_media = []\n",
    "def varianza_velocidades(registros_vel):\n",
    "#varianza = []\n",
    "    #vel_media = []\n",
    "    vel_media = sum(reg_velocidad)/len(reg_velocidad)\n",
    "    #Se define una lista que almacene los resultados de (x-prmd)^2)\n",
    "    valores_dif_x_2pot = []\n",
    "    #Se aplica la formula para que itere cada valor de la lista reg_velocidad\n",
    "    for velocidad in reg_velocidad:\n",
    "        dif_x_pot2 = (velocidad - vel_media) **2\n",
    "        valores_dif_x_2pot.append(dif_x_pot2)\n",
    "    #Con la sumatoria de los valores obtenidos del ciclo for, se aplica el resto de la formula de varianza.\n",
    "    varianza = sum(valores_dif_x_2pot)/len(reg_velocidad)\n",
    "    print(varianza)"
   ]
  },
  {
   "cell_type": "code",
   "execution_count": 191,
   "metadata": {},
   "outputs": [
    {
     "name": "stdout",
     "output_type": "stream",
     "text": [
      "2537.5047258979207\n"
     ]
    }
   ],
   "source": [
    "varianza_velocidades(reg_velocidad)"
   ]
  },
  {
   "cell_type": "markdown",
   "metadata": {},
   "source": [
    "**DESVIACIÓN ESTÁNDAR**\n",
    "\n",
    "Es una medida de dispersión que indica cuánto se desvían los valores de un conjunto de datos con respecto a su media. Un valor muy alto indica que los valores están muy alejados de la media (Sosa, 2013)"
   ]
  },
  {
   "cell_type": "code",
   "execution_count": 186,
   "metadata": {},
   "outputs": [],
   "source": [
    "# Sigma = Raíz2 de sigma^2\n",
    "\n",
    "def desviacion_estandar_velocidad(reg_velocidade):\n",
    "    #desv_estandar = []\n",
    "    desv_estandar = varianza ** (1/2)\n",
    "    print(desv_estandar)"
   ]
  },
  {
   "cell_type": "code",
   "execution_count": 187,
   "metadata": {},
   "outputs": [
    {
     "name": "stdout",
     "output_type": "stream",
     "text": [
      "50.37365110747801\n"
     ]
    }
   ],
   "source": [
    "desviacion_estandar_velocidad(reg_velocidad)"
   ]
  },
  {
   "cell_type": "markdown",
   "metadata": {},
   "source": [
    "**COEFICIENTE DE VARIACIÓN**\n",
    "\n",
    "Este coeficiente mide la desviación de los valores con respecto a la media pero de forma relativa.\n"
   ]
  },
  {
   "cell_type": "code",
   "execution_count": 188,
   "metadata": {},
   "outputs": [],
   "source": [
    "#Se calcula dividiendo la desviación estándar por la media de los datos y multiplicando el resultado por 100\n",
    "\n",
    "def coeficiente_variacion_velocidades(reg_velocit):\n",
    "    desv_estandar = varianza ** (1/2)\n",
    "    vel_media = sum(reg_velocidad)/len(reg_velocidad)\n",
    "    coef_var = (desv_estandar / vel_media)*100\n",
    "    print(coef_var)"
   ]
  },
  {
   "cell_type": "code",
   "execution_count": 189,
   "metadata": {},
   "outputs": [
    {
     "name": "stdout",
     "output_type": "stream",
     "text": [
      "25.424489257669396\n"
     ]
    }
   ],
   "source": [
    "coeficiente_variacion_velocidades(reg_velocidad)"
   ]
  },
  {
   "cell_type": "markdown",
   "metadata": {},
   "source": [
    "**NORMALIZACIÓN Z**\n",
    "\n",
    "Técnica estadística que transforma los datos para que tengan una media de 0 y una desviación estándar de 1. Para obtener este valor por cada elemento del conjunto de datos, se resta la media de cada valor y se divide el resultado por la desviación estándar del conjunto de datos. La normalización Z se utiliza cuando se necesita comparar valores de diferentes escalas."
   ]
  },
  {
   "cell_type": "code",
   "execution_count": 195,
   "metadata": {},
   "outputs": [],
   "source": [
    "#desvi_estand = desv_estandar\n",
    "#Se crea una nueva variable que va a almacenar en lista los x transformados o normalizados.\n",
    "def z_score_reg_velocidades(registr_velocid):\n",
    "    reg_velocidad_normalizado = []\n",
    "    desv_estandar = varianza ** (1/2)\n",
    "    vel_media = sum(reg_velocidad)/len(reg_velocidad)\n",
    "    #Se aplica la formula de normalización Z de tal forma que itere en cada uno de los elementos de la lista reg_velocidad\n",
    "    for velocidad in reg_velocidad:\n",
    "        valor_normz = round((velocidad - vel_media)/desv_estandar,2)\n",
    "        reg_velocidad_normalizado.append(valor_normz)\n",
    "    print(reg_velocidad_normalizado)"
   ]
  },
  {
   "cell_type": "code",
   "execution_count": 196,
   "metadata": {},
   "outputs": [
    {
     "name": "stdout",
     "output_type": "stream",
     "text": [
      "[-1.81, -1.79, -1.47, -1.17, -0.84, -0.64, -0.56, -0.52, -0.5, -0.48, -0.42, 0.2, 0.39, 0.49, 0.53, 0.63, 0.65, 0.85, 1.17, 1.17, 1.29, 1.31, 1.51]\n"
     ]
    }
   ],
   "source": [
    "z_score_reg_velocidades(reg_velocidad)"
   ]
  }
 ],
 "metadata": {
  "kernelspec": {
   "display_name": "Python 3",
   "language": "python",
   "name": "python3"
  },
  "language_info": {
   "codemirror_mode": {
    "name": "ipython",
    "version": 3
   },
   "file_extension": ".py",
   "mimetype": "text/x-python",
   "name": "python",
   "nbconvert_exporter": "python",
   "pygments_lexer": "ipython3",
   "version": "3.12.5"
  }
 },
 "nbformat": 4,
 "nbformat_minor": 2
}
